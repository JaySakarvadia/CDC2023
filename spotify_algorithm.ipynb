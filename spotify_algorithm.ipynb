{
 "cells": [
  {
   "cell_type": "code",
   "execution_count": 12,
   "id": "26241bd0-dd9f-417d-b318-63c7a6e2977d",
   "metadata": {},
   "outputs": [],
   "source": [
    "import pandas as pd\n",
    "\n",
    "import warnings\n",
    "warnings.filterwarnings(\"ignore\")"
   ]
  },
  {
   "cell_type": "markdown",
   "id": "dfba0d06-f84c-47bc-aef7-2dc8087e47b9",
   "metadata": {},
   "source": [
    "## Using Spotify API"
   ]
  },
  {
   "cell_type": "code",
   "execution_count": 1,
   "id": "b6a9ecaf-9dbd-4cd1-8711-f62f3034346a",
   "metadata": {},
   "outputs": [],
   "source": [
    "from test import get_user, get_playlist\n",
    "\n",
    "# top_songs = get_top_songs('jpamukci')"
   ]
  },
  {
   "cell_type": "code",
   "execution_count": 2,
   "id": "e3cfbb5d",
   "metadata": {},
   "outputs": [
    {
     "name": "stdout",
     "output_type": "stream",
     "text": [
      "Barney Stinson\n",
      "Lily Aldrin\n",
      "Marshall Eriksen\n",
      "Ted Mosby\n",
      "Robin Scherbatsky\n",
      "Joey Tribbiani\n",
      "Rachel Green\n",
      "Ross Geller\n",
      "Monica Geller\n",
      "Chandler Bing\n",
      "Phoebe Buffay\n",
      "Michael Scott\n",
      "Dwight Schrute\n",
      "Jim Halpert\n",
      "Pam Beesly\n",
      "Kelly Kapoor\n"
     ]
    }
   ],
   "source": [
    "character_playlists = {\n",
    "  'Barney Stinson':'4ijJSfRKLOKSLt51BIVYww',\n",
    " 'Lily Aldrin':'6WxgJcRxkbrt2WirsLThdx',\n",
    " 'Marshall Eriksen':'5jC1gE2GONlxxTklA1yrli',\n",
    " 'Ted Mosby':'4xqZaffOV5vOimwYkyVDBQ',\n",
    " 'Robin Scherbatsky':'1knbJqNe7AvXf40k0kQoPR',\n",
    " 'Joey Tribbiani':'6SrWIhbOFX7Ljsuwp10Vlk',\n",
    " 'Rachel Green':'2fR7rHp5c5SLyTwQZaHdp2',\n",
    " 'Ross Geller':'37i9dQZF1DZ06evO0ZOciQ',\n",
    " 'Monica Geller':'2qWKM9p7f2mQoM4IrDVwUC',\n",
    " 'Chandler Bing':'45cXXST8qN5ECUNvemRykM',\n",
    " 'Phoebe Buffay':'37i9dQZF1DZ06evO0N5yhI',\n",
    " 'Michael Scott':'0YKfXGKGWa6WVloCH53ADz',\n",
    " 'Dwight Schrute':'7eNaWx2iiEILG0RwYtBZFN',\n",
    " 'Jim Halpert':'7bVvZbnKXTUH8LpLRJBMF4',\n",
    " 'Pam Beesly':'7BrJu8s4jsdWw1ewjWc2sk',\n",
    " 'Kelly Kapoor':'5brcpUDptGytuexzlQrzs8'\n",
    " }\n",
    "\n",
    "for key, value in character_playlists.items():\n",
    "    char_df = get_playlist(value)\n",
    "    char_df.to_csv(f'./character_datasets/{key.replace(\" \", \"_\")}.csv')\n",
    "    print(key)"
   ]
  },
  {
   "cell_type": "code",
   "execution_count": 18,
   "id": "5606eb9c-6980-4f0d-af7d-5990d3d9288c",
   "metadata": {},
   "outputs": [
    {
     "name": "stderr",
     "output_type": "stream",
     "text": [
      "/Users/jay/cdc2023/consolidated_feature_vector.py:4: FutureWarning: The default value of numeric_only in DataFrame.mean is deprecated. In a future version, it will default to False. In addition, specifying 'numeric_only=None' is deprecated. Select only valid columns or specify the value of numeric_only to silence this warning.\n",
      "  consolidated_feature_vector = spotify_features_df.mean()\n",
      "/Users/jay/cdc2023/consolidated_feature_vector.py:4: FutureWarning: The default value of numeric_only in DataFrame.mean is deprecated. In a future version, it will default to False. In addition, specifying 'numeric_only=None' is deprecated. Select only valid columns or specify the value of numeric_only to silence this warning.\n",
      "  consolidated_feature_vector = spotify_features_df.mean()\n",
      "/Users/jay/cdc2023/consolidated_feature_vector.py:4: FutureWarning: The default value of numeric_only in DataFrame.mean is deprecated. In a future version, it will default to False. In addition, specifying 'numeric_only=None' is deprecated. Select only valid columns or specify the value of numeric_only to silence this warning.\n",
      "  consolidated_feature_vector = spotify_features_df.mean()\n",
      "/Users/jay/cdc2023/consolidated_feature_vector.py:4: FutureWarning: The default value of numeric_only in DataFrame.mean is deprecated. In a future version, it will default to False. In addition, specifying 'numeric_only=None' is deprecated. Select only valid columns or specify the value of numeric_only to silence this warning.\n",
      "  consolidated_feature_vector = spotify_features_df.mean()\n",
      "/Users/jay/cdc2023/consolidated_feature_vector.py:4: FutureWarning: The default value of numeric_only in DataFrame.mean is deprecated. In a future version, it will default to False. In addition, specifying 'numeric_only=None' is deprecated. Select only valid columns or specify the value of numeric_only to silence this warning.\n",
      "  consolidated_feature_vector = spotify_features_df.mean()\n",
      "/Users/jay/cdc2023/consolidated_feature_vector.py:4: FutureWarning: The default value of numeric_only in DataFrame.mean is deprecated. In a future version, it will default to False. In addition, specifying 'numeric_only=None' is deprecated. Select only valid columns or specify the value of numeric_only to silence this warning.\n",
      "  consolidated_feature_vector = spotify_features_df.mean()\n",
      "/Users/jay/cdc2023/consolidated_feature_vector.py:4: FutureWarning: The default value of numeric_only in DataFrame.mean is deprecated. In a future version, it will default to False. In addition, specifying 'numeric_only=None' is deprecated. Select only valid columns or specify the value of numeric_only to silence this warning.\n",
      "  consolidated_feature_vector = spotify_features_df.mean()\n",
      "/Users/jay/cdc2023/consolidated_feature_vector.py:4: FutureWarning: The default value of numeric_only in DataFrame.mean is deprecated. In a future version, it will default to False. In addition, specifying 'numeric_only=None' is deprecated. Select only valid columns or specify the value of numeric_only to silence this warning.\n",
      "  consolidated_feature_vector = spotify_features_df.mean()\n",
      "/Users/jay/cdc2023/consolidated_feature_vector.py:4: FutureWarning: The default value of numeric_only in DataFrame.mean is deprecated. In a future version, it will default to False. In addition, specifying 'numeric_only=None' is deprecated. Select only valid columns or specify the value of numeric_only to silence this warning.\n",
      "  consolidated_feature_vector = spotify_features_df.mean()\n",
      "/Users/jay/cdc2023/consolidated_feature_vector.py:4: FutureWarning: The default value of numeric_only in DataFrame.mean is deprecated. In a future version, it will default to False. In addition, specifying 'numeric_only=None' is deprecated. Select only valid columns or specify the value of numeric_only to silence this warning.\n",
      "  consolidated_feature_vector = spotify_features_df.mean()\n",
      "/Users/jay/cdc2023/consolidated_feature_vector.py:4: FutureWarning: The default value of numeric_only in DataFrame.mean is deprecated. In a future version, it will default to False. In addition, specifying 'numeric_only=None' is deprecated. Select only valid columns or specify the value of numeric_only to silence this warning.\n",
      "  consolidated_feature_vector = spotify_features_df.mean()\n",
      "/Users/jay/cdc2023/consolidated_feature_vector.py:4: FutureWarning: The default value of numeric_only in DataFrame.mean is deprecated. In a future version, it will default to False. In addition, specifying 'numeric_only=None' is deprecated. Select only valid columns or specify the value of numeric_only to silence this warning.\n",
      "  consolidated_feature_vector = spotify_features_df.mean()\n",
      "/Users/jay/cdc2023/consolidated_feature_vector.py:4: FutureWarning: The default value of numeric_only in DataFrame.mean is deprecated. In a future version, it will default to False. In addition, specifying 'numeric_only=None' is deprecated. Select only valid columns or specify the value of numeric_only to silence this warning.\n",
      "  consolidated_feature_vector = spotify_features_df.mean()\n",
      "/Users/jay/cdc2023/consolidated_feature_vector.py:4: FutureWarning: The default value of numeric_only in DataFrame.mean is deprecated. In a future version, it will default to False. In addition, specifying 'numeric_only=None' is deprecated. Select only valid columns or specify the value of numeric_only to silence this warning.\n",
      "  consolidated_feature_vector = spotify_features_df.mean()\n",
      "/Users/jay/cdc2023/consolidated_feature_vector.py:4: FutureWarning: The default value of numeric_only in DataFrame.mean is deprecated. In a future version, it will default to False. In addition, specifying 'numeric_only=None' is deprecated. Select only valid columns or specify the value of numeric_only to silence this warning.\n",
      "  consolidated_feature_vector = spotify_features_df.mean()\n",
      "/Users/jay/cdc2023/consolidated_feature_vector.py:4: FutureWarning: The default value of numeric_only in DataFrame.mean is deprecated. In a future version, it will default to False. In addition, specifying 'numeric_only=None' is deprecated. Select only valid columns or specify the value of numeric_only to silence this warning.\n",
      "  consolidated_feature_vector = spotify_features_df.mean()\n"
     ]
    }
   ],
   "source": [
    "import os\n",
    "import pandas as pd\n",
    "from consolidated_feature_vector import consolidate_features\n",
    "\n",
    "directory_path = './character_datasets'\n",
    "consolidated_character_vectors = []\n",
    "\n",
    "for filename in os.listdir(directory_path):\n",
    "    file_path = os.path.join(directory_path, filename)\n",
    "    char_df = pd.read_csv(file_path)\n",
    "    consolidated = consolidate_features(char_df)\n",
    "    consolidated['Character'] = filename.replace(\"_\", \" \").replace(\".csv\", \"\")\n",
    "    consolidated_character_vectors.append(consolidated)"
   ]
  },
  {
   "cell_type": "code",
   "execution_count": 3,
   "id": "d8f3ad48",
   "metadata": {},
   "outputs": [],
   "source": [
    "# consolidate_characters = pd.DataFrame(consolidated_character_vectors).iloc[:, 1:]"
   ]
  },
  {
   "cell_type": "code",
   "execution_count": 4,
   "id": "d8d7b2b7",
   "metadata": {},
   "outputs": [],
   "source": [
    "jay_music = get_user('jay.sakarvadia')"
   ]
  },
  {
   "cell_type": "code",
   "execution_count": 10,
   "id": "831f4414",
   "metadata": {},
   "outputs": [],
   "source": [
    "jay_music.reset_index(inplace=True)"
   ]
  },
  {
   "cell_type": "code",
   "execution_count": 7,
   "id": "311349f9",
   "metadata": {},
   "outputs": [],
   "source": [
    "from sklearn.model_selection import train_test_split\n",
    "from sklearn.linear_model import LinearRegression\n",
    "from sklearn.metrics import r2_score\n",
    "import numpy as np"
   ]
  },
  {
   "cell_type": "code",
   "execution_count": 29,
   "id": "ea0afed9",
   "metadata": {},
   "outputs": [],
   "source": [
    "\n",
    "key_features = ['danceability', 'energy', 'key', 'loudness', 'mode', 'speechiness', 'acousticness', 'instrumentalness', 'liveness', 'valence', 'tempo']\n",
    "r2 = []\n",
    "\n",
    "for feature in key_features:\n",
    "    X = jay_music[feature]\n",
    "    y = jay_music['index']\n",
    "    X_train, X_test, y_train, y_test = train_test_split(X, y, test_size=0.2, random_state=42)\n",
    "    model = LinearRegression()\n",
    "\n",
    "    X_train = np.array(X_train).reshape(-1, 1)\n",
    "    X_test = np.array(X_test).reshape(-1, 1)  \n",
    "\n",
    "    # Fit the model to the training data\n",
    "    model.fit(X_train, y_train)\n",
    "\n",
    "    # Make predictions on the testing data\n",
    "    y_pred = model.predict(X_test)\n",
    "    r2.append(r2_score(y_test, y_pred))\n",
    "\n",
    "r2_comb = {key: abs(value) for key, value in zip(key_features, r2)}\n",
    "strong_features = dict(sorted(r2_comb.items(), key=lambda item: item[1], reverse=True))"
   ]
  },
  {
   "cell_type": "code",
   "execution_count": 33,
   "id": "3093f976",
   "metadata": {},
   "outputs": [],
   "source": [
    "top3_features = list(strong_features.keys())[:3]"
   ]
  },
  {
   "cell_type": "code",
   "execution_count": 36,
   "id": "51143fe5",
   "metadata": {},
   "outputs": [
    {
     "data": {
      "text/plain": [
       "energy          0.706622\n",
       "danceability    0.601643\n",
       "valence         0.509012\n",
       "dtype: float64"
      ]
     },
     "execution_count": 36,
     "metadata": {},
     "output_type": "execute_result"
    }
   ],
   "source": [
    "user_point = jay_music[top3_features].mean()"
   ]
  },
  {
   "cell_type": "code",
   "execution_count": null,
   "id": "ad8017dc",
   "metadata": {},
   "outputs": [],
   "source": []
  }
 ],
 "metadata": {
  "kernelspec": {
   "display_name": "base",
   "language": "python",
   "name": "python3"
  },
  "language_info": {
   "codemirror_mode": {
    "name": "ipython",
    "version": 3
   },
   "file_extension": ".py",
   "mimetype": "text/x-python",
   "name": "python",
   "nbconvert_exporter": "python",
   "pygments_lexer": "ipython3",
   "version": "3.11.2"
  }
 },
 "nbformat": 4,
 "nbformat_minor": 5
}
